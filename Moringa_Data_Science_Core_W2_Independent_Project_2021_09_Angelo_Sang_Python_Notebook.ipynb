{
  "nbformat": 4,
  "nbformat_minor": 0,
  "metadata": {
    "colab": {
      "name": "Moringa_Data_Science_Core_W2_Independent_Project_2021_09_Angelo_Sang_Python_Notebook",
      "provenance": [],
      "collapsed_sections": [],
      "include_colab_link": true
    },
    "kernelspec": {
      "name": "python3",
      "display_name": "Python 3"
    }
  },
  "cells": [
    {
      "cell_type": "markdown",
      "metadata": {
        "id": "view-in-github",
        "colab_type": "text"
      },
      "source": [
        "<a href=\"https://colab.research.google.com/github/Angelo254/Moringa_Data_Science_Core_W2_Independent_Project_2021_09_Angelo_Sang_Python_Notebook/blob/main/Moringa_Data_Science_Core_W2_Independent_Project_2021_09_Angelo_Sang_Python_Notebook.ipynb\" target=\"_parent\"><img src=\"https://colab.research.google.com/assets/colab-badge.svg\" alt=\"Open In Colab\"/></a>"
      ]
    },
    {
      "cell_type": "markdown",
      "metadata": {
        "id": "zf4H6GSVSVrV"
      },
      "source": [
        "# a) Specifying the Data Analytic Question"
      ]
    },
    {
      "cell_type": "markdown",
      "metadata": {
        "id": "X7D9QtARwNMp"
      },
      "source": [
        "which individuals are most likely to have or use a bank account.\n"
      ]
    },
    {
      "cell_type": "markdown",
      "metadata": {
        "id": "sdXsggpDSiWK"
      },
      "source": [
        "# b) Metric for Success"
      ]
    },
    {
      "cell_type": "markdown",
      "metadata": {
        "id": "xX02FF4qx0zZ"
      },
      "source": [
        "Project will be successful when we are able to accurately answer the business problem from clean data\n",
        " "
      ]
    },
    {
      "cell_type": "markdown",
      "metadata": {
        "id": "QIXEnGgbSq_a"
      },
      "source": [
        "# c) Understanding the context"
      ]
    },
    {
      "cell_type": "markdown",
      "metadata": {
        "id": "EzmcjjAUzvDy"
      },
      "source": [
        "Data to be analyzed is demographic, showing financial services \n",
        "used by individuals across East Africa, from 2016 to 2018.\n"
      ]
    },
    {
      "cell_type": "markdown",
      "metadata": {
        "id": "XWA6mBMvzxr4"
      },
      "source": [
        "d)  Recording the Experimental Design"
      ]
    },
    {
      "cell_type": "markdown",
      "metadata": {
        "id": "DFi8MbDkPVuk"
      },
      "source": [
        "e) Data Relevance"
      ]
    },
    {
      "cell_type": "markdown",
      "metadata": {
        "id": "qplAE_KJS3aa"
      },
      "source": [
        "# Reading in the data"
      ]
    },
    {
      "cell_type": "code",
      "metadata": {
        "id": "a7nKrjUnR4Ao"
      },
      "source": [
        "#importing libraries\n",
        "import pandas as pd\n",
        "import matplotlib.pyplot as plt\n",
        "import seaborn as sns\n",
        "import numpy as np\n"
      ],
      "execution_count": 1,
      "outputs": []
    },
    {
      "cell_type": "code",
      "metadata": {
        "id": "EYID47x4R9lq"
      },
      "source": [
        "#Reading in the data\n",
        "#Dataset url = http://bit.ly/FinancialDataset\n",
        "df=pd.read_csv('http://bit.ly/FinancialDataset')\n"
      ],
      "execution_count": 2,
      "outputs": []
    },
    {
      "cell_type": "markdown",
      "metadata": {
        "id": "OfYIF7RzS9US"
      },
      "source": [
        "# Checking our data"
      ]
    },
    {
      "cell_type": "code",
      "metadata": {
        "id": "_Sz9TGjiUXmd",
        "colab": {
          "base_uri": "https://localhost:8080/"
        },
        "outputId": "9587ebcb-0363-4293-8610-aabb15079fc3"
      },
      "source": [
        "# Determining the no. of records in our dataset\n",
        "#\n",
        "print(df.shape)"
      ],
      "execution_count": 3,
      "outputs": [
        {
          "output_type": "stream",
          "name": "stdout",
          "text": [
            "(23524, 13)\n"
          ]
        }
      ]
    },
    {
      "cell_type": "code",
      "metadata": {
        "id": "ROdfULDEUnDi",
        "colab": {
          "base_uri": "https://localhost:8080/",
          "height": 378
        },
        "outputId": "57fd2b49-ee35-44bc-a5bb-b11514362e59"
      },
      "source": [
        "# Previewing the top of our dataset\n",
        "#\n",
        "df.head()"
      ],
      "execution_count": 4,
      "outputs": [
        {
          "output_type": "execute_result",
          "data": {
            "text/html": [
              "<div>\n",
              "<style scoped>\n",
              "    .dataframe tbody tr th:only-of-type {\n",
              "        vertical-align: middle;\n",
              "    }\n",
              "\n",
              "    .dataframe tbody tr th {\n",
              "        vertical-align: top;\n",
              "    }\n",
              "\n",
              "    .dataframe thead th {\n",
              "        text-align: right;\n",
              "    }\n",
              "</style>\n",
              "<table border=\"1\" class=\"dataframe\">\n",
              "  <thead>\n",
              "    <tr style=\"text-align: right;\">\n",
              "      <th></th>\n",
              "      <th>country</th>\n",
              "      <th>year</th>\n",
              "      <th>uniqueid</th>\n",
              "      <th>Has a Bank account</th>\n",
              "      <th>Type of Location</th>\n",
              "      <th>Cell Phone Access</th>\n",
              "      <th>household_size</th>\n",
              "      <th>Respondent Age</th>\n",
              "      <th>gender_of_respondent</th>\n",
              "      <th>The relathip with head</th>\n",
              "      <th>marital_status</th>\n",
              "      <th>Level of Educuation</th>\n",
              "      <th>Type of Job</th>\n",
              "    </tr>\n",
              "  </thead>\n",
              "  <tbody>\n",
              "    <tr>\n",
              "      <th>0</th>\n",
              "      <td>Kenya</td>\n",
              "      <td>2018</td>\n",
              "      <td>uniqueid_1</td>\n",
              "      <td>Yes</td>\n",
              "      <td>Rural</td>\n",
              "      <td>Yes</td>\n",
              "      <td>3.0</td>\n",
              "      <td>24.0</td>\n",
              "      <td>Female</td>\n",
              "      <td>Spouse</td>\n",
              "      <td>Married/Living together</td>\n",
              "      <td>Secondary education</td>\n",
              "      <td>Self employed</td>\n",
              "    </tr>\n",
              "    <tr>\n",
              "      <th>1</th>\n",
              "      <td>Kenya</td>\n",
              "      <td>2018</td>\n",
              "      <td>uniqueid_2</td>\n",
              "      <td>No</td>\n",
              "      <td>Rural</td>\n",
              "      <td>No</td>\n",
              "      <td>5.0</td>\n",
              "      <td>70.0</td>\n",
              "      <td>Female</td>\n",
              "      <td>Head of Household</td>\n",
              "      <td>Widowed</td>\n",
              "      <td>No formal education</td>\n",
              "      <td>Government Dependent</td>\n",
              "    </tr>\n",
              "    <tr>\n",
              "      <th>2</th>\n",
              "      <td>Kenya</td>\n",
              "      <td>2018</td>\n",
              "      <td>uniqueid_3</td>\n",
              "      <td>Yes</td>\n",
              "      <td>Urban</td>\n",
              "      <td>Yes</td>\n",
              "      <td>5.0</td>\n",
              "      <td>26.0</td>\n",
              "      <td>Male</td>\n",
              "      <td>Other relative</td>\n",
              "      <td>Single/Never Married</td>\n",
              "      <td>Vocational/Specialised training</td>\n",
              "      <td>Self employed</td>\n",
              "    </tr>\n",
              "    <tr>\n",
              "      <th>3</th>\n",
              "      <td>Kenya</td>\n",
              "      <td>2018</td>\n",
              "      <td>uniqueid_4</td>\n",
              "      <td>No</td>\n",
              "      <td>Rural</td>\n",
              "      <td>Yes</td>\n",
              "      <td>5.0</td>\n",
              "      <td>34.0</td>\n",
              "      <td>Female</td>\n",
              "      <td>Head of Household</td>\n",
              "      <td>Married/Living together</td>\n",
              "      <td>Primary education</td>\n",
              "      <td>Formally employed Private</td>\n",
              "    </tr>\n",
              "    <tr>\n",
              "      <th>4</th>\n",
              "      <td>Kenya</td>\n",
              "      <td>2018</td>\n",
              "      <td>uniqueid_5</td>\n",
              "      <td>No</td>\n",
              "      <td>Urban</td>\n",
              "      <td>No</td>\n",
              "      <td>8.0</td>\n",
              "      <td>26.0</td>\n",
              "      <td>Male</td>\n",
              "      <td>Child</td>\n",
              "      <td>Single/Never Married</td>\n",
              "      <td>Primary education</td>\n",
              "      <td>Informally employed</td>\n",
              "    </tr>\n",
              "  </tbody>\n",
              "</table>\n",
              "</div>"
            ],
            "text/plain": [
              "  country  year  ...              Level of Educuation                Type of Job\n",
              "0   Kenya  2018  ...              Secondary education              Self employed\n",
              "1   Kenya  2018  ...              No formal education       Government Dependent\n",
              "2   Kenya  2018  ...  Vocational/Specialised training              Self employed\n",
              "3   Kenya  2018  ...                Primary education  Formally employed Private\n",
              "4   Kenya  2018  ...                Primary education        Informally employed\n",
              "\n",
              "[5 rows x 13 columns]"
            ]
          },
          "metadata": {},
          "execution_count": 4
        }
      ]
    },
    {
      "cell_type": "code",
      "metadata": {
        "id": "TiwCgIYUUwKg",
        "colab": {
          "base_uri": "https://localhost:8080/",
          "height": 361
        },
        "outputId": "4a2dd991-4d58-4902-9e3c-8899b6f41bad"
      },
      "source": [
        "# Previewing the bottom of our dataset\n",
        "# \n",
        "df.tail()"
      ],
      "execution_count": 5,
      "outputs": [
        {
          "output_type": "execute_result",
          "data": {
            "text/html": [
              "<div>\n",
              "<style scoped>\n",
              "    .dataframe tbody tr th:only-of-type {\n",
              "        vertical-align: middle;\n",
              "    }\n",
              "\n",
              "    .dataframe tbody tr th {\n",
              "        vertical-align: top;\n",
              "    }\n",
              "\n",
              "    .dataframe thead th {\n",
              "        text-align: right;\n",
              "    }\n",
              "</style>\n",
              "<table border=\"1\" class=\"dataframe\">\n",
              "  <thead>\n",
              "    <tr style=\"text-align: right;\">\n",
              "      <th></th>\n",
              "      <th>country</th>\n",
              "      <th>year</th>\n",
              "      <th>uniqueid</th>\n",
              "      <th>Has a Bank account</th>\n",
              "      <th>Type of Location</th>\n",
              "      <th>Cell Phone Access</th>\n",
              "      <th>household_size</th>\n",
              "      <th>Respondent Age</th>\n",
              "      <th>gender_of_respondent</th>\n",
              "      <th>The relathip with head</th>\n",
              "      <th>marital_status</th>\n",
              "      <th>Level of Educuation</th>\n",
              "      <th>Type of Job</th>\n",
              "    </tr>\n",
              "  </thead>\n",
              "  <tbody>\n",
              "    <tr>\n",
              "      <th>23519</th>\n",
              "      <td>Uganda</td>\n",
              "      <td>2018</td>\n",
              "      <td>uniqueid_2113</td>\n",
              "      <td>No</td>\n",
              "      <td>Rural</td>\n",
              "      <td>Yes</td>\n",
              "      <td>4.0</td>\n",
              "      <td>48.0</td>\n",
              "      <td>Female</td>\n",
              "      <td>Head of Household</td>\n",
              "      <td>Divorced/Seperated</td>\n",
              "      <td>No formal education</td>\n",
              "      <td>Other Income</td>\n",
              "    </tr>\n",
              "    <tr>\n",
              "      <th>23520</th>\n",
              "      <td>Uganda</td>\n",
              "      <td>2018</td>\n",
              "      <td>uniqueid_2114</td>\n",
              "      <td>No</td>\n",
              "      <td>Rural</td>\n",
              "      <td>Yes</td>\n",
              "      <td>2.0</td>\n",
              "      <td>27.0</td>\n",
              "      <td>Female</td>\n",
              "      <td>Head of Household</td>\n",
              "      <td>Single/Never Married</td>\n",
              "      <td>Secondary education</td>\n",
              "      <td>Other Income</td>\n",
              "    </tr>\n",
              "    <tr>\n",
              "      <th>23521</th>\n",
              "      <td>Uganda</td>\n",
              "      <td>2018</td>\n",
              "      <td>uniqueid_2115</td>\n",
              "      <td>No</td>\n",
              "      <td>Rural</td>\n",
              "      <td>Yes</td>\n",
              "      <td>5.0</td>\n",
              "      <td>27.0</td>\n",
              "      <td>Female</td>\n",
              "      <td>Parent</td>\n",
              "      <td>Widowed</td>\n",
              "      <td>Primary education</td>\n",
              "      <td>Other Income</td>\n",
              "    </tr>\n",
              "    <tr>\n",
              "      <th>23522</th>\n",
              "      <td>Uganda</td>\n",
              "      <td>2018</td>\n",
              "      <td>uniqueid_2116</td>\n",
              "      <td>No</td>\n",
              "      <td>Urban</td>\n",
              "      <td>Yes</td>\n",
              "      <td>7.0</td>\n",
              "      <td>30.0</td>\n",
              "      <td>Female</td>\n",
              "      <td>Parent</td>\n",
              "      <td>Divorced/Seperated</td>\n",
              "      <td>Secondary education</td>\n",
              "      <td>Self employed</td>\n",
              "    </tr>\n",
              "    <tr>\n",
              "      <th>23523</th>\n",
              "      <td>Uganda</td>\n",
              "      <td>2018</td>\n",
              "      <td>uniqueid_2117</td>\n",
              "      <td>No</td>\n",
              "      <td>Rural</td>\n",
              "      <td>Yes</td>\n",
              "      <td>10.0</td>\n",
              "      <td>20.0</td>\n",
              "      <td>Male</td>\n",
              "      <td>Child</td>\n",
              "      <td>Single/Never Married</td>\n",
              "      <td>Secondary education</td>\n",
              "      <td>No Income</td>\n",
              "    </tr>\n",
              "  </tbody>\n",
              "</table>\n",
              "</div>"
            ],
            "text/plain": [
              "      country  year  ...  Level of Educuation    Type of Job\n",
              "23519  Uganda  2018  ...  No formal education   Other Income\n",
              "23520  Uganda  2018  ...  Secondary education   Other Income\n",
              "23521  Uganda  2018  ...    Primary education   Other Income\n",
              "23522  Uganda  2018  ...  Secondary education  Self employed\n",
              "23523  Uganda  2018  ...  Secondary education      No Income\n",
              "\n",
              "[5 rows x 13 columns]"
            ]
          },
          "metadata": {},
          "execution_count": 5
        }
      ]
    },
    {
      "cell_type": "code",
      "metadata": {
        "id": "LFIb78WFU8mm",
        "colab": {
          "base_uri": "https://localhost:8080/"
        },
        "outputId": "273991e9-91e8-4231-8057-c3818b74fba7"
      },
      "source": [
        "# Checking whether each column has an appropriate datatype\n",
        "#\n",
        "df.dtypes"
      ],
      "execution_count": 8,
      "outputs": [
        {
          "output_type": "execute_result",
          "data": {
            "text/plain": [
              "country                           object\n",
              "year                      datetime64[ns]\n",
              "uniqueid                          object\n",
              "Has a Bank account                object\n",
              "Type of Location                  object\n",
              "Cell Phone Access                 object\n",
              "household_size                   float64\n",
              "Respondent Age                   float64\n",
              "gender_of_respondent              object\n",
              "The relathip with head            object\n",
              "marital_status                    object\n",
              "Level of Educuation               object\n",
              "Type of Job                       object\n",
              "dtype: object"
            ]
          },
          "metadata": {},
          "execution_count": 8
        }
      ]
    },
    {
      "cell_type": "code",
      "metadata": {
        "colab": {
          "base_uri": "https://localhost:8080/"
        },
        "id": "yeIwWTG0Vrfh",
        "outputId": "1c602695-7be0-4c69-cfc0-e19e91c25d05"
      },
      "source": [
        "#year data type needs to be corrected.\n",
        "#import datetime library\n",
        "from datetime import datetime\n",
        "\n",
        "#first convert the date time into string \n",
        "df['year'] = df['year'].astype('str')\n",
        "df['year'] =  pd.to_datetime(df['year'],format='%Y-%m-%d')\n",
        "\n",
        "print(df.dtypes)"
      ],
      "execution_count": 9,
      "outputs": [
        {
          "output_type": "stream",
          "name": "stdout",
          "text": [
            "country                           object\n",
            "year                      datetime64[ns]\n",
            "uniqueid                          object\n",
            "Has a Bank account                object\n",
            "Type of Location                  object\n",
            "Cell Phone Access                 object\n",
            "household_size                   float64\n",
            "Respondent Age                   float64\n",
            "gender_of_respondent              object\n",
            "The relathip with head            object\n",
            "marital_status                    object\n",
            "Level of Educuation               object\n",
            "Type of Job                       object\n",
            "dtype: object\n"
          ]
        }
      ]
    },
    {
      "cell_type": "markdown",
      "metadata": {
        "id": "aE3IudSDTEWe"
      },
      "source": [
        "# External data source validation"
      ]
    },
    {
      "cell_type": "markdown",
      "metadata": {
        "id": "VvAU1lq76tTB"
      },
      "source": [
        "validation"
      ]
    },
    {
      "cell_type": "markdown",
      "metadata": {
        "id": "QhJM8JsETcLg"
      },
      "source": [
        "# Tidying data set"
      ]
    },
    {
      "cell_type": "code",
      "metadata": {
        "id": "uiAU7C8S62Ie",
        "colab": {
          "base_uri": "https://localhost:8080/",
          "height": 297
        },
        "outputId": "1d635bf5-79e9-415f-fcee-966e3938b0ec"
      },
      "source": [
        "# Checking for Outliers in household_size\n",
        "#\n",
        "#we first visualize the outliers for the float and int variables.\n",
        "print(sns.boxplot(x =df['household_size']))\n"
      ],
      "execution_count": 10,
      "outputs": [
        {
          "output_type": "stream",
          "name": "stdout",
          "text": [
            "AxesSubplot(0.125,0.125;0.775x0.755)\n"
          ]
        },
        {
          "output_type": "display_data",
          "data": {
            "image/png": "[encoded data removed]",
            "text/plain": [
              "<Figure size 432x288 with 1 Axes>"
            ]
          },
          "metadata": {
            "needs_background": "light"
          }
        }
      ]
    },
    {
      "cell_type": "markdown",
      "metadata": {
        "id": "2-hQETTJV9qU"
      },
      "source": [
        "Household_size has outliers"
      ]
    },
    {
      "cell_type": "code",
      "metadata": {
        "id": "esROX6Zl7Txo",
        "colab": {
          "base_uri": "https://localhost:8080/",
          "height": 296
        },
        "outputId": "e8ab87e4-7771-4043-948f-bcaed7e55683"
      },
      "source": [
        "# Checking for Outliers in Respondent Age\n",
        "#\n",
        "print(sns.boxplot(x =df['Respondent Age']))"
      ],
      "execution_count": 12,
      "outputs": [
        {
          "output_type": "stream",
          "name": "stdout",
          "text": [
            "AxesSubplot(0.125,0.125;0.775x0.755)\n"
          ]
        },
        {
          "output_type": "display_data",
          "data": {
            "image/png": "[encoded data removed]",
            "text/plain": [
              "<Figure size 432x288 with 1 Axes>"
            ]
          },
          "metadata": {
            "needs_background": "light"
          }
        }
      ]
    },
    {
      "cell_type": "markdown",
      "metadata": {
        "id": "tzJJyB7bWJ_k"
      },
      "source": [
        "Respondents age has outliers"
      ]
    },
    {
      "cell_type": "code",
      "metadata": {
        "id": "ylzrDoMGBVG8",
        "colab": {
          "base_uri": "https://localhost:8080/"
        },
        "outputId": "25164e12-daa3-4e61-a62e-6808773b9b61"
      },
      "source": [
        "#removing the outlliers using IQR.\n",
        "Q1 = df.quantile(0.25)\n",
        "Q3 = df.quantile(0.75)\n",
        "IQR = Q3 - Q1\n",
        "\n",
        "print(IQR)\n",
        "df['year'] = df['year'].astype('str')\n",
        "print((df < (Q1 - 1.5 * IQR)) |(df > (Q3 + 1.5 * IQR)))\n",
        "df1 = df[~((df < (Q1 - 1.5 * IQR)) |(df > (Q3 + 1.5 * IQR))).any(axis=1)]\n",
        "# data is free from outliers."
      ],
      "execution_count": 13,
      "outputs": [
        {
          "output_type": "stream",
          "name": "stdout",
          "text": [
            "household_size     3.0\n",
            "Respondent Age    23.0\n",
            "dtype: float64\n",
            "       Cell Phone Access  Has a Bank account  ...  uniqueid   year\n",
            "0                  False               False  ...     False  False\n",
            "1                  False               False  ...     False  False\n",
            "2                  False               False  ...     False  False\n",
            "3                  False               False  ...     False  False\n",
            "4                  False               False  ...     False  False\n",
            "...                  ...                 ...  ...       ...    ...\n",
            "23519              False               False  ...     False  False\n",
            "23520              False               False  ...     False  False\n",
            "23521              False               False  ...     False  False\n",
            "23522              False               False  ...     False  False\n",
            "23523              False               False  ...     False  False\n",
            "\n",
            "[23524 rows x 13 columns]\n"
          ]
        }
      ]
    },
    {
      "cell_type": "markdown",
      "metadata": {
        "id": "fZLw0sJzTURu"
      },
      "source": [
        "# Checking for anomalies"
      ]
    },
    {
      "cell_type": "code",
      "metadata": {
        "id": "kugVHZlSx9oe",
        "colab": {
          "base_uri": "https://localhost:8080/"
        },
        "outputId": "95e01020-9dd7-43c3-ac52-56ef55d9ca8b"
      },
      "source": [
        "#checking for missing data\n",
        "df1.isnull().sum()\n",
        "\n",
        "# Dropping null values\n",
        "df2=df1.dropna()\n",
        "\n",
        "# Rechecking my data for null values\n",
        "df2.isnull().sum()\n"
      ],
      "execution_count": 27,
      "outputs": [
        {
          "output_type": "execute_result",
          "data": {
            "text/plain": [
              "country                   0\n",
              "year                      0\n",
              "uniqueid                  0\n",
              "Has a Bank account        0\n",
              "Type of Location          0\n",
              "Cell Phone Access         0\n",
              "household_size            0\n",
              "Respondent Age            0\n",
              "gender_of_respondent      0\n",
              "The relathip with head    0\n",
              "marital_status            0\n",
              "Level of Educuation       0\n",
              "Type of Job               0\n",
              "dtype: int64"
            ]
          },
          "metadata": {},
          "execution_count": 27
        }
      ]
    },
    {
      "cell_type": "code",
      "metadata": {
        "id": "DRnOqg6eyFwj",
        "colab": {
          "base_uri": "https://localhost:8080/"
        },
        "outputId": "0f9fa0e5-198c-4219-b194-c068d5853e94"
      },
      "source": [
        "#checking for duplicates.\n",
        "df2.duplicated().sum()\n",
        "# data has no duplicates"
      ],
      "execution_count": 26,
      "outputs": [
        {
          "output_type": "execute_result",
          "data": {
            "text/plain": [
              "0"
            ]
          },
          "metadata": {},
          "execution_count": 26
        }
      ]
    },
    {
      "cell_type": "markdown",
      "metadata": {
        "id": "YorTVymuTj1a"
      },
      "source": [
        "# Exploratory analysis"
      ]
    },
    {
      "cell_type": "code",
      "metadata": {
        "id": "pCXXjsKh091N",
        "colab": {
          "base_uri": "https://localhost:8080/",
          "height": 378
        },
        "outputId": "fc2171f0-9782-4c8b-f39d-5594fe60f963"
      },
      "source": [
        "# Viewing the head of the dataset\n",
        "df2.head()"
      ],
      "execution_count": 28,
      "outputs": [
        {
          "output_type": "execute_result",
          "data": {
            "text/html": [
              "<div>\n",
              "<style scoped>\n",
              "    .dataframe tbody tr th:only-of-type {\n",
              "        vertical-align: middle;\n",
              "    }\n",
              "\n",
              "    .dataframe tbody tr th {\n",
              "        vertical-align: top;\n",
              "    }\n",
              "\n",
              "    .dataframe thead th {\n",
              "        text-align: right;\n",
              "    }\n",
              "</style>\n",
              "<table border=\"1\" class=\"dataframe\">\n",
              "  <thead>\n",
              "    <tr style=\"text-align: right;\">\n",
              "      <th></th>\n",
              "      <th>country</th>\n",
              "      <th>year</th>\n",
              "      <th>uniqueid</th>\n",
              "      <th>Has a Bank account</th>\n",
              "      <th>Type of Location</th>\n",
              "      <th>Cell Phone Access</th>\n",
              "      <th>household_size</th>\n",
              "      <th>Respondent Age</th>\n",
              "      <th>gender_of_respondent</th>\n",
              "      <th>The relathip with head</th>\n",
              "      <th>marital_status</th>\n",
              "      <th>Level of Educuation</th>\n",
              "      <th>Type of Job</th>\n",
              "    </tr>\n",
              "  </thead>\n",
              "  <tbody>\n",
              "    <tr>\n",
              "      <th>0</th>\n",
              "      <td>Kenya</td>\n",
              "      <td>2018-01-01</td>\n",
              "      <td>uniqueid_1</td>\n",
              "      <td>Yes</td>\n",
              "      <td>Rural</td>\n",
              "      <td>Yes</td>\n",
              "      <td>3.0</td>\n",
              "      <td>24.0</td>\n",
              "      <td>Female</td>\n",
              "      <td>Spouse</td>\n",
              "      <td>Married/Living together</td>\n",
              "      <td>Secondary education</td>\n",
              "      <td>Self employed</td>\n",
              "    </tr>\n",
              "    <tr>\n",
              "      <th>1</th>\n",
              "      <td>Kenya</td>\n",
              "      <td>2018-01-01</td>\n",
              "      <td>uniqueid_2</td>\n",
              "      <td>No</td>\n",
              "      <td>Rural</td>\n",
              "      <td>No</td>\n",
              "      <td>5.0</td>\n",
              "      <td>70.0</td>\n",
              "      <td>Female</td>\n",
              "      <td>Head of Household</td>\n",
              "      <td>Widowed</td>\n",
              "      <td>No formal education</td>\n",
              "      <td>Government Dependent</td>\n",
              "    </tr>\n",
              "    <tr>\n",
              "      <th>2</th>\n",
              "      <td>Kenya</td>\n",
              "      <td>2018-01-01</td>\n",
              "      <td>uniqueid_3</td>\n",
              "      <td>Yes</td>\n",
              "      <td>Urban</td>\n",
              "      <td>Yes</td>\n",
              "      <td>5.0</td>\n",
              "      <td>26.0</td>\n",
              "      <td>Male</td>\n",
              "      <td>Other relative</td>\n",
              "      <td>Single/Never Married</td>\n",
              "      <td>Vocational/Specialised training</td>\n",
              "      <td>Self employed</td>\n",
              "    </tr>\n",
              "    <tr>\n",
              "      <th>3</th>\n",
              "      <td>Kenya</td>\n",
              "      <td>2018-01-01</td>\n",
              "      <td>uniqueid_4</td>\n",
              "      <td>No</td>\n",
              "      <td>Rural</td>\n",
              "      <td>Yes</td>\n",
              "      <td>5.0</td>\n",
              "      <td>34.0</td>\n",
              "      <td>Female</td>\n",
              "      <td>Head of Household</td>\n",
              "      <td>Married/Living together</td>\n",
              "      <td>Primary education</td>\n",
              "      <td>Formally employed Private</td>\n",
              "    </tr>\n",
              "    <tr>\n",
              "      <th>4</th>\n",
              "      <td>Kenya</td>\n",
              "      <td>2018-01-01</td>\n",
              "      <td>uniqueid_5</td>\n",
              "      <td>No</td>\n",
              "      <td>Urban</td>\n",
              "      <td>No</td>\n",
              "      <td>8.0</td>\n",
              "      <td>26.0</td>\n",
              "      <td>Male</td>\n",
              "      <td>Child</td>\n",
              "      <td>Single/Never Married</td>\n",
              "      <td>Primary education</td>\n",
              "      <td>Informally employed</td>\n",
              "    </tr>\n",
              "  </tbody>\n",
              "</table>\n",
              "</div>"
            ],
            "text/plain": [
              "  country  ...                Type of Job\n",
              "0   Kenya  ...              Self employed\n",
              "1   Kenya  ...       Government Dependent\n",
              "2   Kenya  ...              Self employed\n",
              "3   Kenya  ...  Formally employed Private\n",
              "4   Kenya  ...        Informally employed\n",
              "\n",
              "[5 rows x 13 columns]"
            ]
          },
          "metadata": {},
          "execution_count": 28
        }
      ]
    },
    {
      "cell_type": "code",
      "metadata": {
        "id": "hnC24dOm50wn",
        "colab": {
          "base_uri": "https://localhost:8080/",
          "height": 297
        },
        "outputId": "03e16875-aa6c-406a-f9b3-792bb8e97cf9"
      },
      "source": [
        "#obtain data description.\n",
        "df2.describe()"
      ],
      "execution_count": 29,
      "outputs": [
        {
          "output_type": "execute_result",
          "data": {
            "text/html": [
              "<div>\n",
              "<style scoped>\n",
              "    .dataframe tbody tr th:only-of-type {\n",
              "        vertical-align: middle;\n",
              "    }\n",
              "\n",
              "    .dataframe tbody tr th {\n",
              "        vertical-align: top;\n",
              "    }\n",
              "\n",
              "    .dataframe thead th {\n",
              "        text-align: right;\n",
              "    }\n",
              "</style>\n",
              "<table border=\"1\" class=\"dataframe\">\n",
              "  <thead>\n",
              "    <tr style=\"text-align: right;\">\n",
              "      <th></th>\n",
              "      <th>household_size</th>\n",
              "      <th>Respondent Age</th>\n",
              "    </tr>\n",
              "  </thead>\n",
              "  <tbody>\n",
              "    <tr>\n",
              "      <th>count</th>\n",
              "      <td>22728.000000</td>\n",
              "      <td>22728.000000</td>\n",
              "    </tr>\n",
              "    <tr>\n",
              "      <th>mean</th>\n",
              "      <td>3.579945</td>\n",
              "      <td>38.346445</td>\n",
              "    </tr>\n",
              "    <tr>\n",
              "      <th>std</th>\n",
              "      <td>2.080472</td>\n",
              "      <td>15.806083</td>\n",
              "    </tr>\n",
              "    <tr>\n",
              "      <th>min</th>\n",
              "      <td>0.000000</td>\n",
              "      <td>16.000000</td>\n",
              "    </tr>\n",
              "    <tr>\n",
              "      <th>25%</th>\n",
              "      <td>2.000000</td>\n",
              "      <td>26.000000</td>\n",
              "    </tr>\n",
              "    <tr>\n",
              "      <th>50%</th>\n",
              "      <td>3.000000</td>\n",
              "      <td>35.000000</td>\n",
              "    </tr>\n",
              "    <tr>\n",
              "      <th>75%</th>\n",
              "      <td>5.000000</td>\n",
              "      <td>48.000000</td>\n",
              "    </tr>\n",
              "    <tr>\n",
              "      <th>max</th>\n",
              "      <td>9.000000</td>\n",
              "      <td>83.000000</td>\n",
              "    </tr>\n",
              "  </tbody>\n",
              "</table>\n",
              "</div>"
            ],
            "text/plain": [
              "       household_size  Respondent Age\n",
              "count    22728.000000    22728.000000\n",
              "mean         3.579945       38.346445\n",
              "std          2.080472       15.806083\n",
              "min          0.000000       16.000000\n",
              "25%          2.000000       26.000000\n",
              "50%          3.000000       35.000000\n",
              "75%          5.000000       48.000000\n",
              "max          9.000000       83.000000"
            ]
          },
          "metadata": {},
          "execution_count": 29
        }
      ]
    },
    {
      "cell_type": "code",
      "metadata": {
        "id": "OGqJ2h_31CE_",
        "colab": {
          "base_uri": "https://localhost:8080/",
          "height": 304
        },
        "outputId": "3adb13af-e30d-412e-c10a-4630ffd8bf8e"
      },
      "source": [
        "#visualisation of bank account ownership count.\n",
        "df2['Has a Bank account'].value_counts().plot.bar(title='Freq dist of Bank account ownership', )\n",
        "plt.ylabel('Bank Accounts')\n",
        "\n",
        "#From the numbers it is clear we are yet to achieve financial inclusion."
      ],
      "execution_count": 30,
      "outputs": [
        {
          "output_type": "execute_result",
          "data": {
            "text/plain": [
              "Text(0, 0.5, 'Bank Accounts')"
            ]
          },
          "metadata": {},
          "execution_count": 30
        },
        {
          "output_type": "display_data",
          "data": {
            "image/png": "[encoded data removed]",
            "text/plain": [
              "<Figure size 432x288 with 1 Axes>"
            ]
          },
          "metadata": {
            "needs_background": "light"
          }
        }
      ]
    },
    {
      "cell_type": "code",
      "metadata": {
        "id": "nOv2e56O5Itd",
        "colab": {
          "base_uri": "https://localhost:8080/",
          "height": 325
        },
        "outputId": "ff3f0487-436c-4f4a-8bf5-4927093585ad"
      },
      "source": [
        "#a visualisation to see gender distibution of those with phones.\n",
        "#a new dataframe is created where df2['Has a Bank account'] == 'Yes'\n",
        "a=df2[df2['Has a Bank account'] == 'Yes']\n",
        "a['gender_of_respondent'].value_counts().plot.bar(title='gender distribution of those with phones', color='red')\n",
        "plt.ylabel('Bank Accounts')\n",
        "\n",
        "# out of those with phones males are more than females."
      ],
      "execution_count": 32,
      "outputs": [
        {
          "output_type": "execute_result",
          "data": {
            "text/plain": [
              "Text(0, 0.5, 'Bank Accounts')"
            ]
          },
          "metadata": {},
          "execution_count": 32
        },
        {
          "output_type": "display_data",
          "data": {
            "image/png": "[encoded data removed]",
            "text/plain": [
              "<Figure size 432x288 with 1 Axes>"
            ]
          },
          "metadata": {
            "needs_background": "light"
          }
        }
      ]
    },
    {
      "cell_type": "code",
      "metadata": {
        "id": "8gxpy0CkNPBd",
        "colab": {
          "base_uri": "https://localhost:8080/",
          "height": 360
        },
        "outputId": "c5562a03-0b05-4d07-ff75-d89d436380ac"
      },
      "source": [
        "#A visualisation to check Bank account ownership in the country.\n",
        "w=df2.groupby (['country','Has a Bank account'])['Has a Bank account'].count()\n",
        "w.plot(kind='bar', color='yellow')\n",
        "plt.ylabel('Bank Accounts')"
      ],
      "execution_count": 33,
      "outputs": [
        {
          "output_type": "execute_result",
          "data": {
            "text/plain": [
              "Text(0, 0.5, 'Bank Accounts')"
            ]
          },
          "metadata": {},
          "execution_count": 33
        },
        {
          "output_type": "display_data",
          "data": {
            "image/png": "[encoded data removed]",
            "text/plain": [
              "<Figure size 432x288 with 1 Axes>"
            ]
          },
          "metadata": {
            "needs_background": "light"
          }
        }
      ]
    },
    {
      "cell_type": "code",
      "metadata": {
        "id": "8ZkSQAujMBWa",
        "colab": {
          "base_uri": "https://localhost:8080/",
          "height": 382
        },
        "outputId": "4360426d-1926-4bbc-e2f8-95bc1698b8c1"
      },
      "source": [
        "#A visualisation to check Bank account onwnership in the countries given gender.\n",
        "w=a.groupby (['country','gender_of_respondent'])['Has a Bank account'].count()\n",
        "w.plot(kind='bar', color='green')\n",
        "plt.ylabel('Bank Accounts')\n",
        "\n",
        "#In all countries more males have a bank account except in Uganda, where more females have \n",
        "# bank accounts compared to males"
      ],
      "execution_count": 34,
      "outputs": [
        {
          "output_type": "execute_result",
          "data": {
            "text/plain": [
              "Text(0, 0.5, 'Bank Accounts')"
            ]
          },
          "metadata": {},
          "execution_count": 34
        },
        {
          "output_type": "display_data",
          "data": {
            "image/png": "[encoded data removed]",
            "text/plain": [
              "<Figure size 432x288 with 1 Axes>"
            ]
          },
          "metadata": {
            "needs_background": "light"
          }
        }
      ]
    },
    {
      "cell_type": "code",
      "metadata": {
        "id": "3Gd42k2lUhVZ",
        "colab": {
          "base_uri": "https://localhost:8080/",
          "height": 111
        },
        "outputId": "5b8c1ba5-b322-4264-b3e7-50b4b2c64565"
      },
      "source": [
        "#checking for correlation of the numerical variables\n",
        "df2.corr()\n",
        "\n",
        "#there is very weak negative correlation between the variables"
      ],
      "execution_count": 35,
      "outputs": [
        {
          "output_type": "execute_result",
          "data": {
            "text/html": [
              "<div>\n",
              "<style scoped>\n",
              "    .dataframe tbody tr th:only-of-type {\n",
              "        vertical-align: middle;\n",
              "    }\n",
              "\n",
              "    .dataframe tbody tr th {\n",
              "        vertical-align: top;\n",
              "    }\n",
              "\n",
              "    .dataframe thead th {\n",
              "        text-align: right;\n",
              "    }\n",
              "</style>\n",
              "<table border=\"1\" class=\"dataframe\">\n",
              "  <thead>\n",
              "    <tr style=\"text-align: right;\">\n",
              "      <th></th>\n",
              "      <th>household_size</th>\n",
              "      <th>Respondent Age</th>\n",
              "    </tr>\n",
              "  </thead>\n",
              "  <tbody>\n",
              "    <tr>\n",
              "      <th>household_size</th>\n",
              "      <td>1.000000</td>\n",
              "      <td>-0.106259</td>\n",
              "    </tr>\n",
              "    <tr>\n",
              "      <th>Respondent Age</th>\n",
              "      <td>-0.106259</td>\n",
              "      <td>1.000000</td>\n",
              "    </tr>\n",
              "  </tbody>\n",
              "</table>\n",
              "</div>"
            ],
            "text/plain": [
              "                household_size  Respondent Age\n",
              "household_size        1.000000       -0.106259\n",
              "Respondent Age       -0.106259        1.000000"
            ]
          },
          "metadata": {},
          "execution_count": 35
        }
      ]
    },
    {
      "cell_type": "code",
      "metadata": {
        "id": "usQeTlPqVkP7",
        "colab": {
          "base_uri": "https://localhost:8080/",
          "height": 333
        },
        "outputId": "ae8b1d7a-6714-4349-8954-a1401591a125"
      },
      "source": [
        "#visualisation on phone access and owning a bank account.\n",
        "b=df2.groupby (['Cell Phone Access','Has a Bank account'])['Has a Bank account'].count()\n",
        "b.plot(kind='bar', color='black')\n",
        "plt.ylabel('Bank Accounts')\n",
        "\n",
        "#out of those with no cell phone access, very few have access to a bank account.\n",
        "#out of those with cell phone access, very many have no bank accounts.\n",
        "#this could be due to mobile banking services offerres,therefore finding no\n",
        "#need to have a bank account."
      ],
      "execution_count": 36,
      "outputs": [
        {
          "output_type": "execute_result",
          "data": {
            "text/plain": [
              "Text(0, 0.5, 'Bank Accounts')"
            ]
          },
          "metadata": {},
          "execution_count": 36
        },
        {
          "output_type": "display_data",
          "data": {
            "image/png": "[encoded data removed]",
            "text/plain": [
              "<Figure size 432x288 with 1 Axes>"
            ]
          },
          "metadata": {
            "needs_background": "light"
          }
        }
      ]
    },
    {
      "cell_type": "code",
      "metadata": {
        "id": "LDKW8HaTaHAU",
        "colab": {
          "base_uri": "https://localhost:8080/",
          "height": 470
        },
        "outputId": "6f53c622-b84d-45b2-846c-78618d627622"
      },
      "source": [
        "#level of education vs bank account ownership.\n",
        "c=a.groupby (['Level of Educuation','Has a Bank account'])['Has a Bank account'].count()\n",
        "c.plot(kind='bar',  color='purple')\n",
        "plt.ylabel('Bank Accounts')\n",
        "\n",
        "#Out of those with bank accounts, those who got to primary school are the \n",
        "#highest number."
      ],
      "execution_count": 37,
      "outputs": [
        {
          "output_type": "execute_result",
          "data": {
            "text/plain": [
              "Text(0, 0.5, 'Bank Accounts')"
            ]
          },
          "metadata": {},
          "execution_count": 37
        },
        {
          "output_type": "display_data",
          "data": {
            "image/png": "[encoded data removed]",
            "text/plain": [
              "<Figure size 432x288 with 1 Axes>"
            ]
          },
          "metadata": {
            "needs_background": "light"
          }
        }
      ]
    },
    {
      "cell_type": "code",
      "metadata": {
        "id": "curWijGGa8zV",
        "colab": {
          "base_uri": "https://localhost:8080/",
          "height": 436
        },
        "outputId": "fc8ed30c-4350-484c-b53e-4e80c08eff50"
      },
      "source": [
        "#marital status vs bank account ownership\n",
        "d=a.groupby (['marital_status','Has a Bank account'])['Has a Bank account'].count()\n",
        "d.plot(kind='bar',  color='orange')\n",
        "plt.ylabel('Bank Accounts')\n",
        "\n",
        "#those married/living together have highest number of bank accounts"
      ],
      "execution_count": 38,
      "outputs": [
        {
          "output_type": "execute_result",
          "data": {
            "text/plain": [
              "Text(0, 0.5, 'Bank Accounts')"
            ]
          },
          "metadata": {},
          "execution_count": 38
        },
        {
          "output_type": "display_data",
          "data": {
            "image/png": "[encoded data removed]",
            "text/plain": [
              "<Figure size 432x288 with 1 Axes>"
            ]
          },
          "metadata": {
            "needs_background": "light"
          }
        }
      ]
    },
    {
      "cell_type": "code",
      "metadata": {
        "id": "q6dZCMlQkk9j",
        "colab": {
          "base_uri": "https://localhost:8080/",
          "height": 348
        },
        "outputId": "816ca9cb-7dd4-463b-a524-993eb43181f3"
      },
      "source": [
        "#rural/urban vs bank accounts.\n",
        "g=df2.groupby (['Type of Location','Has a Bank account'])['Has a Bank account'].count()\n",
        "g.plot(kind='bar',  color='Gold')\n",
        "plt.ylabel('Bank Accounts')\n",
        "\n",
        "#Awareness need be created in the rural areas on ownership of bank accounts"
      ],
      "execution_count": 39,
      "outputs": [
        {
          "output_type": "execute_result",
          "data": {
            "text/plain": [
              "Text(0, 0.5, 'Bank Accounts')"
            ]
          },
          "metadata": {},
          "execution_count": 39
        },
        {
          "output_type": "display_data",
          "data": {
            "image/png": "[encoded data removed]",
            "text/plain": [
              "<Figure size 432x288 with 1 Axes>"
            ]
          },
          "metadata": {
            "needs_background": "light"
          }
        }
      ]
    },
    {
      "cell_type": "code",
      "metadata": {
        "id": "sKdDGBGEaKpp",
        "colab": {
          "base_uri": "https://localhost:8080/",
          "height": 478
        },
        "outputId": "fbcb5e4f-c85e-484d-daa4-cfd19a43d636"
      },
      "source": [
        "#type of job vs bank account ownership\n",
        "e=a.groupby (['Type of Job','Has a Bank account'])['Has a Bank account'].count()\n",
        "e.plot(kind='bar',  color='orange')\n",
        "plt.ylabel('Bank Accounts')\n",
        "\n",
        "#Those self employed are more likely to have a bank account"
      ],
      "execution_count": 40,
      "outputs": [
        {
          "output_type": "execute_result",
          "data": {
            "text/plain": [
              "Text(0, 0.5, 'Bank Accounts')"
            ]
          },
          "metadata": {},
          "execution_count": 40
        },
        {
          "output_type": "display_data",
          "data": {
            "image/png": "[encoded data removed]",
            "text/plain": [
              "<Figure size 432x288 with 1 Axes>"
            ]
          },
          "metadata": {
            "needs_background": "light"
          }
        }
      ]
    },
    {
      "cell_type": "markdown",
      "metadata": {
        "id": "L7d3YiTwTuDX"
      },
      "source": [
        "# Principal Component Analysis (PCA)"
      ]
    },
    {
      "cell_type": "code",
      "metadata": {
        "id": "rnnKlRR6chfX"
      },
      "source": [
        "#Preprocessing\n",
        "#divide the dataset into a feature set and corresponding labels\n",
        "X = df2.iloc[:, 6:-5].values\n",
        "\n",
        "#y = df2[['country',\t'year',\t'uniqueid',\t'Has a Bank account',\t'Type of Location',\t'Cell Phone Access','gender_of_respondent'\t,'The relathip with head'\t,'marital_status','Level of Educuation'\t,'Type of Job']].values\n",
        "y=df2['gender_of_respondent']"
      ],
      "execution_count": 41,
      "outputs": []
    },
    {
      "cell_type": "code",
      "metadata": {
        "id": "ZvRXBHywdlqi",
        "colab": {
          "base_uri": "https://localhost:8080/"
        },
        "outputId": "54dc55ba-812f-414d-b0db-2e58f7d8757e"
      },
      "source": [
        "# Splitting the dataset into the Training set and Test set\n",
        "from sklearn.model_selection import train_test_split\n",
        "\n",
        "X_train, X_test, y_train, y_test = train_test_split(X, y, test_size=0.2, random_state=0)\n",
        "X_train, X_test, y_train, y_test"
      ],
      "execution_count": 42,
      "outputs": [
        {
          "output_type": "execute_result",
          "data": {
            "text/plain": [
              "(array([[ 3., 24.],\n",
              "        [ 1., 72.],\n",
              "        [ 3., 34.],\n",
              "        ...,\n",
              "        [ 2., 45.],\n",
              "        [ 9., 42.],\n",
              "        [ 6., 33.]]), array([[ 5., 23.],\n",
              "        [ 6., 33.],\n",
              "        [ 2., 35.],\n",
              "        ...,\n",
              "        [ 2., 53.],\n",
              "        [ 3., 45.],\n",
              "        [ 2., 24.]]), 20844    Female\n",
              " 15749      Male\n",
              " 12657    Female\n",
              " 16059      Male\n",
              " 20877    Female\n",
              "           ...  \n",
              " 13497    Female\n",
              " 20229      Male\n",
              " 10124      Male\n",
              " 11094      Male\n",
              " 2832       Male\n",
              " Name: gender_of_respondent, Length: 18182, dtype: object, 7805       Male\n",
              " 10039    Female\n",
              " 18863    Female\n",
              " 22048    Female\n",
              " 8443     Female\n",
              "           ...  \n",
              " 9569     Female\n",
              " 12693      Male\n",
              " 7287     Female\n",
              " 5480     Female\n",
              " 20264      Male\n",
              " Name: gender_of_respondent, Length: 4546, dtype: object)"
            ]
          },
          "metadata": {},
          "execution_count": 42
        }
      ]
    },
    {
      "cell_type": "code",
      "metadata": {
        "id": "doqNB0mMeccA"
      },
      "source": [
        "#Normalization\n",
        "from sklearn.preprocessing import StandardScaler\n",
        "\n",
        "sc = StandardScaler()\n",
        "X_train = sc.fit_transform(X_train)\n",
        "X_test = sc.transform(X_test)"
      ],
      "execution_count": 43,
      "outputs": []
    },
    {
      "cell_type": "code",
      "metadata": {
        "id": "95ek60hKem9u"
      },
      "source": [
        "# Applying PCA\n",
        "\n",
        "from sklearn.decomposition import PCA\n",
        "\n",
        "pca = PCA()\n",
        "X_train = pca.fit_transform(X_train)\n",
        "X_test = pca.transform(X_test)"
      ],
      "execution_count": 45,
      "outputs": []
    },
    {
      "cell_type": "code",
      "metadata": {
        "id": "nXYoes61hBH-",
        "colab": {
          "base_uri": "https://localhost:8080/"
        },
        "outputId": "185dc355-46ee-464b-d4ab-99ee2d5103f2"
      },
      "source": [
        "#Explained Variance Ratio\n",
        "explained_variance = pca.explained_variance_ratio_\n",
        "explained_variance"
      ],
      "execution_count": 46,
      "outputs": [
        {
          "output_type": "execute_result",
          "data": {
            "text/plain": [
              "array([0.55190095, 0.44809905])"
            ]
          },
          "metadata": {},
          "execution_count": 46
        }
      ]
    },
    {
      "cell_type": "code",
      "metadata": {
        "id": "uggpv4D0rrYw"
      },
      "source": [
        "#Using 2 Principal Component Analysis\n",
        "from sklearn.decomposition import PCA\n",
        "\n",
        "pca = PCA(n_components=2)\n",
        "X_train = pca.fit_transform(X_train)\n",
        "X_test = pca.transform(X_test)"
      ],
      "execution_count": 47,
      "outputs": []
    },
    {
      "cell_type": "code",
      "metadata": {
        "id": "wiFWwiEU1LYB"
      },
      "source": [
        "#Training and Making Predictions\n",
        "#we use random forest classification for making the predictions.\n",
        "# \n",
        "from sklearn.ensemble import RandomForestClassifier\n",
        "\n",
        "classifier = RandomForestClassifier(max_depth=2, random_state=0)\n",
        "classifier.fit(X_train, y_train)\n",
        "\n",
        "# Predicting the Test set results\n",
        "y_pred = classifier.predict(X_test)"
      ],
      "execution_count": 50,
      "outputs": []
    },
    {
      "cell_type": "code",
      "metadata": {
        "id": "rgzYvHE81cAZ",
        "colab": {
          "base_uri": "https://localhost:8080/"
        },
        "outputId": "907dce02-3d32-4903-9ff5-f989ad669c3c"
      },
      "source": [
        "#Performance Evaluation\n",
        "\n",
        "from sklearn.metrics import confusion_matrix\n",
        "from sklearn.metrics import accuracy_score\n",
        "\n",
        "print(confusion_matrix(y_test, y_pred))\n",
        "print('Accuracy' + str(accuracy_score(y_test, y_pred)))\n"
      ],
      "execution_count": 51,
      "outputs": [
        {
          "output_type": "stream",
          "name": "stdout",
          "text": [
            "[[2701   32]\n",
            " [1771   42]]\n",
            "Accuracy0.6033875934887813\n"
          ]
        }
      ]
    },
    {
      "cell_type": "markdown",
      "metadata": {
        "id": "GfEuaUOSUgWA"
      },
      "source": [
        "# Discriminant Analysis"
      ]
    },
    {
      "cell_type": "code",
      "metadata": {
        "id": "S9hhcrY-J4i2"
      },
      "source": [
        "#Preprocessing\n",
        "#divide the dataset into a feature set and corresponding labels\n",
        "A = df2.iloc[:, 6:-5].values\n",
        "\n",
        "#b = df2[['country',\t'year',\t'uniqueid',\t'Has a Bank account',\t'Type of Location',\t'Cell Phone Access','gender_of_respondent'\t,'The relathip with head'\t,'marital_status','Level of Educuation'\t,'Type of Job']].values\n",
        "b=df2['gender_of_respondent']"
      ],
      "execution_count": 52,
      "outputs": []
    },
    {
      "cell_type": "code",
      "metadata": {
        "id": "XBtgvn-qKIYf",
        "colab": {
          "base_uri": "https://localhost:8080/"
        },
        "outputId": "c5956c06-68ec-4a0b-bac1-9da6cc8454d8"
      },
      "source": [
        "# Splitting the dataset into the Training set and Test set\n",
        "from sklearn.model_selection import train_test_split\n",
        "\n",
        "A_train, A_test, b_train, b_test = train_test_split(A, b, test_size=0.2, random_state=0)\n",
        "A_train, A_test, b_train, b_test"
      ],
      "execution_count": 54,
      "outputs": [
        {
          "output_type": "execute_result",
          "data": {
            "text/plain": [
              "(array([[ 3., 24.],\n",
              "        [ 1., 72.],\n",
              "        [ 3., 34.],\n",
              "        ...,\n",
              "        [ 2., 45.],\n",
              "        [ 9., 42.],\n",
              "        [ 6., 33.]]), array([[ 5., 23.],\n",
              "        [ 6., 33.],\n",
              "        [ 2., 35.],\n",
              "        ...,\n",
              "        [ 2., 53.],\n",
              "        [ 3., 45.],\n",
              "        [ 2., 24.]]), 20844    Female\n",
              " 15749      Male\n",
              " 12657    Female\n",
              " 16059      Male\n",
              " 20877    Female\n",
              "           ...  \n",
              " 13497    Female\n",
              " 20229      Male\n",
              " 10124      Male\n",
              " 11094      Male\n",
              " 2832       Male\n",
              " Name: gender_of_respondent, Length: 18182, dtype: object, 7805       Male\n",
              " 10039    Female\n",
              " 18863    Female\n",
              " 22048    Female\n",
              " 8443     Female\n",
              "           ...  \n",
              " 9569     Female\n",
              " 12693      Male\n",
              " 7287     Female\n",
              " 5480     Female\n",
              " 20264      Male\n",
              " Name: gender_of_respondent, Length: 4546, dtype: object)"
            ]
          },
          "metadata": {},
          "execution_count": 54
        }
      ]
    },
    {
      "cell_type": "code",
      "metadata": {
        "id": "djJHh2dYKi-v"
      },
      "source": [
        "#Normalization\n",
        "from sklearn.preprocessing import StandardScaler\n",
        "\n",
        "sc = StandardScaler()\n",
        "A_train = sc.fit_transform(A_train)\n",
        "A_test = sc.transform(A_test)"
      ],
      "execution_count": 55,
      "outputs": []
    },
    {
      "cell_type": "code",
      "metadata": {
        "id": "hPcQxZo4KuS_"
      },
      "source": [
        "#performing LDA\n",
        "from sklearn.discriminant_analysis import LinearDiscriminantAnalysis as LDA\n",
        "lda = LDA(n_components=1)\n",
        "A_train = lda.fit_transform(A_train, b_train)\n",
        "A_test = lda.transform(A_test)"
      ],
      "execution_count": 56,
      "outputs": []
    },
    {
      "cell_type": "code",
      "metadata": {
        "id": "vhfTQu4EK_mz"
      },
      "source": [
        "#Training and Making Predictions\n",
        "from sklearn.ensemble import RandomForestClassifier\n",
        "\n",
        "classifier = RandomForestClassifier(max_depth=2, random_state=0)\n",
        "classifier.fit(A_train, b_train)\n",
        "b_pred = classifier.predict(A_test)"
      ],
      "execution_count": 59,
      "outputs": []
    },
    {
      "cell_type": "code",
      "metadata": {
        "id": "OvUfU_yJMXdz",
        "colab": {
          "base_uri": "https://localhost:8080/"
        },
        "outputId": "f85a1744-f4e2-43c8-ac9f-f64ac007c13a"
      },
      "source": [
        "#Evaluating the Performance\n",
        "from sklearn.metrics import confusion_matrix\n",
        "from sklearn.metrics import accuracy_score\n",
        "\n",
        "print(confusion_matrix(b_test, b_pred))\n",
        "print('Accuracy' + str(accuracy_score(b_test, b_pred)))"
      ],
      "execution_count": 61,
      "outputs": [
        {
          "output_type": "stream",
          "name": "stdout",
          "text": [
            "[[2715   18]\n",
            " [1804    9]]\n",
            "Accuracy0.5992080950285966\n"
          ]
        }
      ]
    },
    {
      "cell_type": "markdown",
      "metadata": {
        "id": "uy_7oBnDUpvu"
      },
      "source": [
        "# RECOMMENDATION"
      ]
    },
    {
      "cell_type": "markdown",
      "metadata": {
        "id": "AvyG5jQjZGFk"
      },
      "source": [
        "It is clear from our analysis that financial inclusion is yet to be achieved. \n",
        "Some recommendations include:\n",
        "\n",
        "1) Since the number of women with bank accounts is lower, Banks should target women groups and provide financial education to them.\n",
        "\n",
        "2)  Kenya has the highest number of people with bank accounts.Bank managers in other countries can do benchmarking from the kenyan banking sector.\n",
        "\n",
        "3)Ensure financial education reaches the rural areas, since many people from those areas do not have bank accounts.\n",
        "\n"
      ]
    }
  ]
}